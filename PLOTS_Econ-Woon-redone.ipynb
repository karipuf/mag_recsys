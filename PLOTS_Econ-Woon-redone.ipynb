{
 "cells": [
  {
   "cell_type": "code",
   "execution_count": 1,
   "metadata": {
    "collapsed": false,
    "deletable": true,
    "editable": true
   },
   "outputs": [],
   "source": [
    "import pandas as pd\n",
    "import numpy as np\n",
    "import pylab as pl\n",
    "from copy import deepcopy\n",
    "\n",
    "%matplotlib notebook\n",
    "\n",
    "# Parameters\n",
    "field = \"Econ\""
   ]
  },
  {
   "cell_type": "code",
   "execution_count": 2,
   "metadata": {
    "collapsed": true,
    "deletable": true,
    "editable": true
   },
   "outputs": [],
   "source": [
    "# Function definitions\n",
    "########################\n",
    "\n",
    "def NegLogLikelihood(vidList,simMat):\n",
    "    '''\n",
    "    Function to calculate average probability\n",
    "    vidList is a single list of venue IDs\n",
    "    simMat is the dataframe of vid (rows) vs aid (columns)\n",
    "    and corresponding probabilities\n",
    "    '''\n",
    "    \n",
    "    probs=simMat[vidList['AID'].iloc[0]]\n",
    "    logVec=np.mean([-np.log(probs[tmp]) for tmp in vidList['VID']])\n",
    "    \n",
    "    return logVec"
   ]
  },
  {
   "cell_type": "code",
   "execution_count": 4,
   "metadata": {
    "collapsed": true,
    "deletable": true,
    "editable": true
   },
   "outputs": [],
   "source": [
    "# Loading in the data\n",
    "#######################\n",
    "\n",
    "# Extracting recommender system based scores\n",
    "df=pd.read_csv(\"predictions_\"+field+\".csv\") # Recommender system based\n",
    "recdf=df.pivot(index='AID',columns='VID',values='Citations').sort_index().fillna(0)\n",
    "\n",
    "# Extracting relevance\n",
    "reldf=pd.read_csv(\"distances_econ_filtered.csv\").set_index(\"AID\").sort_index().fillna(0)\n",
    "reldf=reldf[recdf.columns]\n",
    "reldf.columns.name='VID'\n",
    "\n",
    "# Transposing so it's easier to normalize later\n",
    "recdf=recdf.T\n",
    "reldf=reldf.T\n",
    "\n",
    "# Validation data\n",
    "realdf=pd.read_csv(field+\"AIDPIDVIDANameVName.csv\")[['AID','VID']]\n",
    "realdf=realdf[realdf.AID.isin(reldf.columns)]\n",
    "realdf=realdf[realdf.VID.isin(reldf.index)]\n",
    "\n",
    "# Reality checks\n",
    "assert(set(recdf.index)==set(reldf.index)) # should be same set of authors\n",
    "assert(np.all(recdf.columns==reldf.columns))"
   ]
  },
  {
   "cell_type": "code",
   "execution_count": 5,
   "metadata": {
    "collapsed": false,
    "deletable": true,
    "editable": true
   },
   "outputs": [],
   "source": [
    "# Converting to probabilities\n",
    "###############################\n",
    "\n",
    "# Temperature\n",
    "taurel=.1\n",
    "taurec=.5\n",
    "\n",
    "# Exponentiating\n",
    "nreldf=np.exp(reldf/taurel)\n",
    "nrecdf=np.exp(recdf/taurec)\n",
    "\n",
    "# Normalizing\n",
    "nreldf=nreldf/nreldf.sum()\n",
    "nrecdf=nrecdf/nrecdf.sum()"
   ]
  },
  {
   "cell_type": "code",
   "execution_count": 6,
   "metadata": {
    "collapsed": false,
    "deletable": true,
    "editable": true
   },
   "outputs": [],
   "source": [
    "# Randomized versions\n",
    "# (this takes a while!)\n",
    "########################\n",
    "\n",
    "rand_nreldf=deepcopy(nreldf)\n",
    "rand_nrecdf=deepcopy(nrecdf)\n",
    "foo=rand_nreldf.apply(np.random.shuffle)\n",
    "foo=rand_nrecdf.apply(np.random.shuffle)"
   ]
  },
  {
   "cell_type": "code",
   "execution_count": 11,
   "metadata": {
    "collapsed": false,
    "deletable": true,
    "editable": true
   },
   "outputs": [
    {
     "name": "stdout",
     "output_type": "stream",
     "text": [
      "Recommender system:\n",
      "===================\n",
      "Actual: 12.3903018323\n",
      "Randomized: 9.393324685\n",
      "\n",
      "Relevance:\n",
      "==========\n",
      "Actal: 6.16025667015\n",
      "Randomized): 5.80068117734\n"
     ]
    }
   ],
   "source": [
    "realdg=realdf.groupby('AID')\n",
    "\n",
    "# Comparing cases\n",
    "print(\"Recommender system:\")\n",
    "print(\"===================\")\n",
    "print(\"Actual: \"+str(realdg.apply(lambda tmp: NegLogLikelihood(tmp,nrecdf)).mean()))\n",
    "print(\"Randomized: \"+str(realdg.apply(lambda tmp: NegLogLikelihood(tmp,rand_nrecdf)).mean()))\n",
    "\n",
    "print()\n",
    "print(\"Relevance:\")\n",
    "print(\"==========\")\n",
    "print(\"Actal: \"+str(realdg.apply(lambda tmp: NegLogLikelihood(tmp,nreldf)).mean()))\n",
    "print(\"Randomized): \"+str(realdg.apply(lambda tmp: NegLogLikelihood(tmp,rand_nreldf)).mean()))"
   ]
  }
 ],
 "metadata": {
  "anaconda-cloud": {},
  "kernelspec": {
   "display_name": "Python [default]",
   "language": "python",
   "name": "python3"
  },
  "language_info": {
   "codemirror_mode": {
    "name": "ipython",
    "version": 3
   },
   "file_extension": ".py",
   "mimetype": "text/x-python",
   "name": "python",
   "nbconvert_exporter": "python",
   "pygments_lexer": "ipython3",
   "version": "3.5.4"
  }
 },
 "nbformat": 4,
 "nbformat_minor": 0
}

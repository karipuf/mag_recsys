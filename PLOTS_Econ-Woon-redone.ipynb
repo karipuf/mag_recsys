{
 "cells": [
  {
   "cell_type": "code",
   "execution_count": 1,
   "metadata": {
    "collapsed": false,
    "deletable": true,
    "editable": true
   },
   "outputs": [],
   "source": [
    "import pandas as pd\n",
    "import numpy as np\n",
    "import pylab as pl\n",
    "from copy import deepcopy\n",
    "\n",
    "%matplotlib notebook\n",
    "\n",
    "# Parameters\n",
    "field = \"Econ\""
   ]
  },
  {
   "cell_type": "code",
   "execution_count": 151,
   "metadata": {
    "collapsed": true
   },
   "outputs": [],
   "source": [
    "# Function definitions\n",
    "########################\n",
    "\n",
    "def NegLogLikelihood(vidList,simMat):\n",
    "    '''\n",
    "    Function to calculate average probability\n",
    "    vidList is a single list of venue IDs\n",
    "    simMat is the dataframe of vid (rows) vs aid (columns)\n",
    "    and corresponding probabilities\n",
    "    '''\n",
    "    \n",
    "    probs=simMat[vidList['AID'].iloc[0]]\n",
    "    logVec=np.mean([-np.log(probs[tmp]) for tmp in vidList['VID']])\n",
    "    \n",
    "    return logVec"
   ]
  },
  {
   "cell_type": "code",
   "execution_count": 142,
   "metadata": {
    "collapsed": true
   },
   "outputs": [],
   "source": [
    "# Loading in the data\n",
    "#######################\n",
    "\n",
    "# Extracting recommender system based scores\n",
    "df=pd.read_csv(\"predictions_Econ.csv\") # Recommender system based\n",
    "recdf=df.pivot(index='AID',columns='VID',values='Citations').sort_index().fillna(0)\n",
    "\n",
    "# Extracting relevance\n",
    "reldf=pd.read_csv(\"distances_econ_filtered.csv\").set_index(\"AID\").sort_index().fillna(0)\n",
    "reldf=reldf[recdf.columns]\n",
    "reldf.columns.name='VID'\n",
    "\n",
    "# Transposing so it's easier to normalize later\n",
    "recdf=recdf.T\n",
    "reldf=reldf.T\n",
    "\n",
    "# Validation data\n",
    "realdf=pd.read_csv(field+\"AIDPIDVIDANameVName.csv\")[['AID','VID']]\n",
    "realdf=realdf[realdf.AID.isin(reldf.columns)]\n",
    "realdf=realdf[realdf.VID.isin(reldf.index)]\n",
    "\n",
    "# Reality checks\n",
    "assert(set(recdf.index)==set(reldf.index)) # should be same set of authors\n",
    "assert(np.all(recdf.columns==reldf.columns))"
   ]
  },
  {
   "cell_type": "code",
   "execution_count": 139,
   "metadata": {
    "collapsed": false
   },
   "outputs": [],
   "source": [
    "# Converting to probabilities\n",
    "###############################\n",
    "\n",
    "# Temperature\n",
    "taurel=.1\n",
    "taurec=.5\n",
    "\n",
    "# Exponentiating\n",
    "nreldf=np.exp(reldf/taurel)\n",
    "nrecdf=np.exp(recdf/taurec)\n",
    "\n",
    "# Normalizing\n",
    "nreldf=nreldf/nreldf.sum()\n",
    "nrecdf=nrecdf/nrecdf.sum()"
   ]
  },
  {
   "cell_type": "code",
   "execution_count": 6,
   "metadata": {
    "collapsed": false
   },
   "outputs": [],
   "source": [
    "# Randomized versions\n",
    "# (this takes a while!)\n",
    "########################\n",
    "\n",
    "rand_nreldf=deepcopy(nreldf)\n",
    "rand_nrecdf=deepcopy(nrecdf)\n",
    "foo=rand_nreldf.apply(np.random.shuffle)\n",
    "foo=rand_nrecdf.apply(np.random.shuffle)"
   ]
  },
  {
   "cell_type": "code",
   "execution_count": 170,
   "metadata": {
    "collapsed": false
   },
   "outputs": [
    {
     "data": {
      "text/plain": [
       "6.1602566701491579"
      ]
     },
     "execution_count": 170,
     "metadata": {},
     "output_type": "execute_result"
    }
   ],
   "source": [
    "# Baseline case\n",
    "realdg=realdf.groupby('AID')\n",
    "realdg.apply(lambda tmp: NegLogLikelihood(tmp,nreldf)).mean()"
   ]
  }
 ],
 "metadata": {
  "anaconda-cloud": {},
  "kernelspec": {
   "display_name": "Python [default]",
   "language": "python",
   "name": "python3"
  },
  "language_info": {
   "codemirror_mode": {
    "name": "ipython",
    "version": 3
   },
   "file_extension": ".py",
   "mimetype": "text/x-python",
   "name": "python",
   "nbconvert_exporter": "python",
   "pygments_lexer": "ipython3",
   "version": "3.5.4"
  }
 },
 "nbformat": 4,
 "nbformat_minor": 0
}

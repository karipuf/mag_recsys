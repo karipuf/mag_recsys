{
 "cells": [
  {
   "cell_type": "code",
   "execution_count": 13,
   "metadata": {
    "collapsed": false,
    "deletable": true,
    "editable": true
   },
   "outputs": [],
   "source": [
    "import pandas as pd\n",
    "import numpy as np\n",
    "import pylab as pl\n",
    "from copy import deepcopy\n",
    "from itertools import count\n",
    "from sys import stdout\n",
    "\n",
    "%matplotlib notebook\n",
    "\n",
    "# Parameters\n",
    "field = \"Econ\""
   ]
  },
  {
   "cell_type": "code",
   "execution_count": 17,
   "metadata": {
    "collapsed": true,
    "deletable": true,
    "editable": true
   },
   "outputs": [],
   "source": [
    "# Function definitions\n",
    "########################\n",
    "\n",
    "def NegLogLikelihood(vidList,simMat):\n",
    "    '''\n",
    "    Function to calculate average probability\n",
    "    vidList is a single list of venue IDs\n",
    "    simMat is the dataframe of vid (rows) vs aid (columns)\n",
    "    and corresponding probabilities\n",
    "    '''\n",
    "    \n",
    "    probs=simMat[vidList['AID'].iloc[0]]\n",
    "    logVec=np.mean([-np.log(probs[tmp]) for tmp in vidList['VID']])\n",
    "    \n",
    "    return logVec\n",
    "\n",
    "def VerboseShuffle(inVec):\n",
    "    global shuffleCounter\n",
    "    \n",
    "    np.random.shuffle(inVec)\n",
    "    \n",
    "    try:\n",
    "        n=next(shuffleCounter)\n",
    "    except NameError:\n",
    "        shuffleCounter=count(1)\n",
    "        n=next(shuffleCounter)\n",
    "        \n",
    "    if n%100==0: stdout.write('#'+str(n)+\" \")"
   ]
  },
  {
   "cell_type": "code",
   "execution_count": 4,
   "metadata": {
    "collapsed": true,
    "deletable": true,
    "editable": true
   },
   "outputs": [],
   "source": [
    "# Loading in the data\n",
    "#######################\n",
    "\n",
    "# Extracting recommender system based scores\n",
    "df=pd.read_csv(\"predictions_\"+field+\".csv\") # Recommender system based\n",
    "recdf=df.pivot(index='AID',columns='VID',values='Citations').sort_index().fillna(0)\n",
    "\n",
    "# Extracting relevance\n",
    "reldf=pd.read_csv(\"distances_econ_filtered.csv\").set_index(\"AID\").sort_index().fillna(0)\n",
    "reldf=reldf[recdf.columns]\n",
    "reldf.columns.name='VID'\n",
    "\n",
    "# Transposing so it's easier to normalize later\n",
    "recdf=recdf.T\n",
    "reldf=reldf.T\n",
    "\n",
    "# Validation data\n",
    "realdf=pd.read_csv(field+\"AIDPIDVIDANameVName.csv\")[['AID','VID']]\n",
    "realdf=realdf[realdf.AID.isin(reldf.columns)]\n",
    "realdf=realdf[realdf.VID.isin(reldf.index)]\n",
    "\n",
    "# Reality checks\n",
    "assert(set(recdf.index)==set(reldf.index)) # should be same set of authors\n",
    "assert(np.all(recdf.columns==reldf.columns))"
   ]
  },
  {
   "cell_type": "code",
   "execution_count": 41,
   "metadata": {
    "collapsed": false,
    "deletable": true,
    "editable": true
   },
   "outputs": [],
   "source": [
    "# Converting to probabilities\n",
    "###############################\n",
    "\n",
    "# Temperature\n",
    "taurel=.05\n",
    "taurec=1\n",
    "\n",
    "# Exponentiating\n",
    "nreldf=np.exp(reldf/taurel)\n",
    "nrecdf=np.exp(recdf/taurec)\n",
    "\n",
    "# Normalizing\n",
    "nreldf=nreldf/nreldf.sum()\n",
    "nrecdf=nrecdf/nrecdf.sum()"
   ]
  },
  {
   "cell_type": "markdown",
   "metadata": {},
   "source": [
    "Generating baseline versions based on randomized probabilities\n",
    "==================================="
   ]
  },
  {
   "cell_type": "code",
   "execution_count": 42,
   "metadata": {
    "collapsed": false,
    "deletable": true,
    "editable": true
   },
   "outputs": [
    {
     "name": "stdout",
     "output_type": "stream",
     "text": [
      "Relevance scores. Shuffling author: #100 #200 #300 #400 #500 #600 #700 #800 #900 #1000 \n",
      "Recommender System scores. Shuffling author: #100 #200 #300 #400 #500 #600 #700 #800 #900 #1000 \n"
     ]
    }
   ],
   "source": [
    "# Shuffling\n",
    "# (this takes a while!)\n",
    "########################\n",
    "\n",
    "rand_nreldf=deepcopy(nreldf)\n",
    "rand_nrecdf=deepcopy(nrecdf)\n",
    "\n",
    "# Clearing the shuffle counter\n",
    "try: del(shuffleCounter)\n",
    "except: pass\n",
    "\n",
    "stdout.write(\"Relevance scores. Shuffling author: \")\n",
    "foo=rand_nreldf.apply(VerboseShuffle)\n",
    "print();del(shuffleCounter)\n",
    "\n",
    "stdout.write(\"Recommender System scores. Shuffling author: \")\n",
    "foo=rand_nrecdf.apply(VerboseShuffle)\n",
    "print();del(shuffleCounter)"
   ]
  },
  {
   "cell_type": "code",
   "execution_count": 44,
   "metadata": {
    "collapsed": false,
    "deletable": true,
    "editable": true
   },
   "outputs": [
    {
     "name": "stdout",
     "output_type": "stream",
     "text": [
      "Recommender system:\n",
      "===================\n",
      "Actual: 8.24574018781\n",
      "Randomized: 6.73416902266\n",
      "\n",
      "Relevance:\n",
      "==========\n",
      "Actual: 7.47520453529\n",
      "Randomized: 6.78484530143\n"
     ]
    }
   ],
   "source": [
    "realdg=realdf.groupby('AID')\n",
    "\n",
    "# Comparing cases\n",
    "print(\"Recommender system:\")\n",
    "print(\"===================\")\n",
    "print(\"Actual: \"+str(realdg.apply(lambda tmp: NegLogLikelihood(tmp,nrecdf)).mean()))\n",
    "print(\"Randomized: \"+str(realdg.apply(lambda tmp: NegLogLikelihood(tmp,rand_nrecdf)).mean()))\n",
    "\n",
    "print()\n",
    "print(\"Relevance:\")\n",
    "print(\"==========\")\n",
    "print(\"Actual: \"+str(realdg.apply(lambda tmp: NegLogLikelihood(tmp,nreldf)).mean()))\n",
    "print(\"Randomized: \"+str(realdg.apply(lambda tmp: NegLogLikelihood(tmp,rand_nreldf)).mean()))"
   ]
  }
 ],
 "metadata": {
  "anaconda-cloud": {},
  "kernelspec": {
   "display_name": "Python [default]",
   "language": "python",
   "name": "python3"
  },
  "language_info": {
   "codemirror_mode": {
    "name": "ipython",
    "version": 3
   },
   "file_extension": ".py",
   "mimetype": "text/x-python",
   "name": "python",
   "nbconvert_exporter": "python",
   "pygments_lexer": "ipython3",
   "version": "3.5.4"
  }
 },
 "nbformat": 4,
 "nbformat_minor": 0
}
